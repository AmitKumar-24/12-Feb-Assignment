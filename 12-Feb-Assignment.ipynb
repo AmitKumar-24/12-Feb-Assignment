{
 "cells": [
  {
   "cell_type": "markdown",
   "id": "ed2d6cab-cd32-4f13-a89c-c69c585d663b",
   "metadata": {},
   "source": [
    "Q1. What is an Exception in python? Write the difference between Exceptions and Syntax errors."
   ]
  },
  {
   "cell_type": "markdown",
   "id": "c5698661-8064-4dd8-a2d5-4fdf3fb07360",
   "metadata": {},
   "source": [
    "Exception - An exception is an even which occurs during the execution of a program that disrupts the normal flow of the program's instructions. in general, when a python script encounters a situation that it cannot scope with, it raises an exception. An exception is a python object that represents an error. when a pythons script raises an exception it must handle the exception immediatly otherwise it terminates and quits. for-example :"
   ]
  },
  {
   "cell_type": "code",
   "execution_count": 1,
   "id": "5ec831c8-d1e9-4602-b84b-3214189cdfba",
   "metadata": {},
   "outputs": [
    {
     "name": "stdout",
     "output_type": "stream",
     "text": [
      "division by zero\n"
     ]
    }
   ],
   "source": [
    "try :\n",
    "    a = 10/0\n",
    "except ZeroDivisionError as e:\n",
    "    print(e)"
   ]
  },
  {
   "cell_type": "markdown",
   "id": "37dd220f-bac0-417d-8bec-18599fb9d7c6",
   "metadata": {},
   "source": [
    "difference between Syntax errors and Exceptions\n",
    "\n",
    "SyntaxError occurs when the interpreter encounters invalid syntax in code. When Python code is executed, the interpreter parses it to convert it into bytecode. If the interpreter finds any invalid syntax during the parsing stage, a SyntaxError is thrown. In simple words this error is caused by wrong syntax in the code."
   ]
  },
  {
   "cell_type": "code",
   "execution_count": 5,
   "id": "d8f69dfa-29cf-477d-820b-4a418da3cbdc",
   "metadata": {},
   "outputs": [
    {
     "ename": "SyntaxError",
     "evalue": "expected ':' (3919696399.py, line 2)",
     "output_type": "error",
     "traceback": [
      "\u001b[0;36m  Cell \u001b[0;32mIn[5], line 2\u001b[0;36m\u001b[0m\n\u001b[0;31m    if (amount>999)\u001b[0m\n\u001b[0m                   ^\u001b[0m\n\u001b[0;31mSyntaxError\u001b[0m\u001b[0;31m:\u001b[0m expected ':'\n"
     ]
    }
   ],
   "source": [
    "amount = 1000\n",
    "if (amount>999)\n",
    "print('this will generate syntax error')"
   ]
  },
  {
   "cell_type": "markdown",
   "id": "f3ebbf0a-c721-42b8-a36d-50a7398cf704",
   "metadata": {},
   "source": [
    "Exceptions: Exceptions are raised when the program is syntactically correct, but the code resulted in an error. This error does not stop the execution of the program, however, it changes the normal flow of the program."
   ]
  },
  {
   "cell_type": "code",
   "execution_count": 6,
   "id": "291f2393-5115-4d6f-8e62-da948ce545f8",
   "metadata": {},
   "outputs": [
    {
     "ename": "ZeroDivisionError",
     "evalue": "division by zero",
     "output_type": "error",
     "traceback": [
      "\u001b[0;31m---------------------------------------------------------------------------\u001b[0m",
      "\u001b[0;31mZeroDivisionError\u001b[0m                         Traceback (most recent call last)",
      "Cell \u001b[0;32mIn[6], line 2\u001b[0m\n\u001b[1;32m      1\u001b[0m marks \u001b[38;5;241m=\u001b[39m \u001b[38;5;241m10000\u001b[39m\n\u001b[0;32m----> 2\u001b[0m a \u001b[38;5;241m=\u001b[39m \u001b[43mmarks\u001b[49m\u001b[43m \u001b[49m\u001b[38;5;241;43m/\u001b[39;49m\u001b[43m \u001b[49m\u001b[38;5;241;43m0\u001b[39;49m\n\u001b[1;32m      3\u001b[0m \u001b[38;5;28mprint\u001b[39m(a)\n",
      "\u001b[0;31mZeroDivisionError\u001b[0m: division by zero"
     ]
    }
   ],
   "source": [
    "marks = 10000\n",
    "a = marks / 0\n",
    "print(a)"
   ]
  },
  {
   "cell_type": "markdown",
   "id": "31ae8344-e91d-416e-88e3-9bd86b193d4f",
   "metadata": {},
   "source": [
    "Q2. What happens when an exception is not handled? Explain with an example  "
   ]
  },
  {
   "cell_type": "markdown",
   "id": "e3803137-bd0d-479a-945a-7b7fc9bc9a05",
   "metadata": {},
   "source": [
    "If an exception occurs during execution of the try clause, the exception may be handled by an except clause. If the exception is not handled by an except clause, the exception is re-raised after the finally clause has been executed.\n",
    "\n",
    "An exception could occur during execution of an except or else clause. Again, the exception is re-raised after the finally clause has been executed.\n",
    "\n",
    "If the finally clause executes a break, continue or return statement, exceptions are not re-raised.\n",
    "\n",
    "If the try statement reaches a break, continue or return statement, the finally clause will execute just prior to the break, continue or return statement’s execution.\n",
    "\n",
    "If a finally clause includes a return statement, the returned value will be the one from the finally clause’s return statement, not the value from the try clause’s return statement."
   ]
  },
  {
   "cell_type": "code",
   "execution_count": 10,
   "id": "1c142f86-c95a-416b-91fa-32e5891488e8",
   "metadata": {},
   "outputs": [
    {
     "data": {
      "text/plain": [
       "False"
      ]
     },
     "execution_count": 10,
     "metadata": {},
     "output_type": "execute_result"
    }
   ],
   "source": [
    "# for Example\n",
    "def bool_return():\n",
    "    try:\n",
    "        return True\n",
    "    finally:\n",
    "        return False\n",
    "\n",
    "bool_return()"
   ]
  },
  {
   "cell_type": "markdown",
   "id": "0eba13b6-1eae-4720-9833-39afed4274a3",
   "metadata": {},
   "source": [
    "Q3. which python statements are used to catch and handle exceptions? Explain with an example."
   ]
  },
  {
   "cell_type": "markdown",
   "id": "1fa0b93e-02bd-4846-8478-1c6a75861bf0",
   "metadata": {},
   "source": [
    "Try and except statements are used to catch and handle exceptions in Python. Statements that can raise exceptions are kept inside the try clause and the statements that handle the exception are written inside except clause."
   ]
  },
  {
   "cell_type": "code",
   "execution_count": 13,
   "id": "b5ba6841-712e-46b6-bcff-fe1b3778e86b",
   "metadata": {},
   "outputs": [
    {
     "name": "stdout",
     "output_type": "stream",
     "text": [
      "second element 2 \n",
      "list index out of range\n"
     ]
    }
   ],
   "source": [
    "# Example: Let us try to access the array element whose index is out of bound and handle the corresponding exception.\n",
    "a = [1,2,3]\n",
    "try:\n",
    "    print('second element %d ' %(a[1]))\n",
    "    #throw an error because there are only 3 elements in the array\n",
    "    print('fourth element %d ' %(a[3]))\n",
    "except Exception as e:\n",
    "    print(e)"
   ]
  },
  {
   "cell_type": "markdown",
   "id": "163f193d-cdc8-43b6-ad14-a831b92a2156",
   "metadata": {},
   "source": [
    "In the above example, the statements that can cause the error are placed inside the try statement (second print statement in our case). The second print statement tries to access the fourth element of the list which is not there and this throws an exception. This exception is then caught by the except statement."
   ]
  },
  {
   "cell_type": "markdown",
   "id": "111f4b57-bde2-45b3-a75b-d0e687b32012",
   "metadata": {},
   "source": [
    "Q4.Explain with an example:\n",
    "\n",
    "a.try and else\n",
    "\n",
    "b.finally\n",
    "\n",
    "c.raise"
   ]
  },
  {
   "cell_type": "markdown",
   "id": "ba9d257a-97fa-4906-bb13-f2e95912e847",
   "metadata": {},
   "source": [
    "try and else\n",
    "\n",
    "Try: This block will test the excepted error to occur\n",
    "\n",
    "Else: If there is no exception then this block will be executed. The code enters the else block only if the try clause does not raise an exception.\n",
    "\n",
    "Example: Else block will execute only when no exception occurs."
   ]
  },
  {
   "cell_type": "code",
   "execution_count": 16,
   "id": "e8d6b973-1ed7-4e5c-81bf-a09ab95372c9",
   "metadata": {},
   "outputs": [
    {
     "name": "stdout",
     "output_type": "stream",
     "text": [
      "Your answer is : 1\n",
      "You are dividing by zero \n"
     ]
    }
   ],
   "source": [
    "# working of try and else \n",
    "def divide(x, y):\n",
    "    try:\n",
    "        result = x // y\n",
    "    except ZeroDivisionError:\n",
    "        print(\"You are dividing by zero \")\n",
    "    else:\n",
    "        print(\"Your answer is :\", result)\n",
    "divide(3, 2)\n",
    "divide(3, 0)"
   ]
  },
  {
   "cell_type": "markdown",
   "id": "903a5570-7986-4e62-aeb2-d88025f4e04c",
   "metadata": {},
   "source": [
    "b. finally\n",
    "\n",
    "finally keyword is always executed after try and except blocks. The finally block always executes after normal termination of try block or after try block terminates due to some exception. Even if you return in the except block still the finally block will execute\n",
    "\n",
    "Example: this program will try to throw the exception in except block and Finally will execute either exception will generate or not"
   ]
  },
  {
   "cell_type": "code",
   "execution_count": 17,
   "id": "ec272c4d-d5f7-41c1-bbcb-cc96d0f4fbba",
   "metadata": {},
   "outputs": [
    {
     "name": "stdout",
     "output_type": "stream",
     "text": [
      "Your answer is :  1\n",
      "this will execute always\n",
      "You are dividing by zero\n",
      "this will execute always\n"
     ]
    }
   ],
   "source": [
    "def divide(x,y):\n",
    "    try:\n",
    "        result = x//y\n",
    "    except ZeroDivisionError:\n",
    "        print('You are dividing by zero')\n",
    "    else:\n",
    "        print('Your answer is : ', result)\n",
    "    finally:\n",
    "        print('this will execute always')\n",
    "divide(3,2)\n",
    "divide(3,0)"
   ]
  },
  {
   "cell_type": "markdown",
   "id": "e663b326-36df-4c7d-8a46-8f790aec9809",
   "metadata": {},
   "source": [
    "c. raise"
   ]
  },
  {
   "cell_type": "markdown",
   "id": "22b78690-ae38-44cc-8db3-310d833c2d1a",
   "metadata": {},
   "source": [
    "raise Keyword is used to raise exceptions or errors. The raise keyword raises an error and stops the control flow of the program. It is used to bring up the current exception in an exception handler so that it can be handled further up the call stack."
   ]
  },
  {
   "cell_type": "markdown",
   "id": "e552c937-8509-45a2-9a68-e2a2d21eb80d",
   "metadata": {},
   "source": [
    "Example: In the below code, we check if an integer is even or odd. if the integer is odd an exception is raised. a is a variable to which we assigned a number 5, as a is odd, then if loop checks if it’s an odd integer, if it’s an odd integer then an error is raised."
   ]
  },
  {
   "cell_type": "code",
   "execution_count": 22,
   "id": "2b8efbfc-7a36-40b6-a075-a1f1f788842a",
   "metadata": {},
   "outputs": [
    {
     "ename": "Exception",
     "evalue": "the number should not be an odd integer",
     "output_type": "error",
     "traceback": [
      "\u001b[0;31m---------------------------------------------------------------------------\u001b[0m",
      "\u001b[0;31mException\u001b[0m                                 Traceback (most recent call last)",
      "Cell \u001b[0;32mIn[22], line 3\u001b[0m\n\u001b[1;32m      1\u001b[0m a \u001b[38;5;241m=\u001b[39m \u001b[38;5;241m5\u001b[39m\n\u001b[1;32m      2\u001b[0m \u001b[38;5;28;01mif\u001b[39;00m a \u001b[38;5;241m%\u001b[39m \u001b[38;5;241m2\u001b[39m \u001b[38;5;241m!=\u001b[39m \u001b[38;5;241m0\u001b[39m:\n\u001b[0;32m----> 3\u001b[0m     \u001b[38;5;28;01mraise\u001b[39;00m \u001b[38;5;167;01mException\u001b[39;00m(\u001b[38;5;124m'\u001b[39m\u001b[38;5;124mthe number should not be an odd integer\u001b[39m\u001b[38;5;124m'\u001b[39m)\n",
      "\u001b[0;31mException\u001b[0m: the number should not be an odd integer"
     ]
    }
   ],
   "source": [
    "a = 5\n",
    "if a % 2 != 0:\n",
    "    raise Exception('the number should not be an odd integer')"
   ]
  },
  {
   "cell_type": "markdown",
   "id": "6fc4d0b8-aaa7-44c5-ad7b-3462d564c548",
   "metadata": {},
   "source": [
    "Q5.What are Custom Exceptions in python? Why do we need Custom Exceptions? Explain with an example."
   ]
  },
  {
   "cell_type": "markdown",
   "id": "0f01e7a1-911f-45e7-b60e-50aa8aefcca4",
   "metadata": {},
   "source": [
    "In Python, we can define custom exceptions by creating a new class that is derived from the built-in Exception class.\n",
    "\n",
    "Here's the syntax to define custom exceptions,\n"
   ]
  },
  {
   "cell_type": "code",
   "execution_count": 23,
   "id": "43b89c16-3599-4f77-906e-7169cf446fcb",
   "metadata": {},
   "outputs": [],
   "source": [
    "class CustomError(Exception):\n",
    "    ...\n",
    "    pass\n",
    "try:\n",
    "       ...\n",
    "except CustomError:\n",
    "    ..."
   ]
  },
  {
   "cell_type": "markdown",
   "id": "d18c64f3-dbbe-4267-ad2f-54188ea7882c",
   "metadata": {},
   "source": [
    "Here, CustomError is a user-defined error which inherits from the Exception class.\n",
    "\n",
    "we need Custom Exceptions When we are developing a large Python program, it is a good practice to place all the user-defined exceptions that our program raises in a separate file.\n",
    "Many standard modules define their exceptions separately as exceptions.py or errors.py (generally but not always)."
   ]
  },
  {
   "cell_type": "code",
   "execution_count": 25,
   "id": "2f517b8d-ac9d-4b40-bfff-c94049dd17b6",
   "metadata": {},
   "outputs": [
    {
     "name": "stdin",
     "output_type": "stream",
     "text": [
      "Enter a number between positive integer:  -34\n"
     ]
    },
    {
     "name": "stdout",
     "output_type": "stream",
     "text": [
      "You provided -34. Please provide positive integer values only\n"
     ]
    }
   ],
   "source": [
    "class NegativeError(Exception):\n",
    "       def __init__(self, data):\n",
    "            self.data = data\n",
    "try:\n",
    "    x = int(input(\"Enter a number between positive integer: \"))\n",
    "    if x < 0:\n",
    "        raise NegativeError(x)\n",
    "except NegativeError as e:\n",
    "    print(\"You provided {}. Please provide positive integer values only\".format(e))"
   ]
  },
  {
   "cell_type": "markdown",
   "id": "8ccea219-1b37-4038-9637-fad25a27cb60",
   "metadata": {},
   "source": [
    "Q6. Create a custom exception class. use this class to handle exception"
   ]
  },
  {
   "cell_type": "code",
   "execution_count": 27,
   "id": "c459109a-0f46-4ad8-a4ee-65dd01cbfefb",
   "metadata": {},
   "outputs": [
    {
     "name": "stdout",
     "output_type": "stream",
     "text": [
      "A new exception occured :  6\n"
     ]
    }
   ],
   "source": [
    "# A program to create a custom exception class\n",
    "class Myerror(Exception):\n",
    "    def __init__(self,value):\n",
    "        self.value = value\n",
    "        \n",
    "    def __str__(self):\n",
    "        return (repr(self.value))\n",
    "try:\n",
    "    raise(Myerror(3*2))\n",
    "except Myerror as error:\n",
    "    print('A new exception occured : ', error.value)"
   ]
  },
  {
   "cell_type": "code",
   "execution_count": null,
   "id": "b2fd8a6d-1dc3-4df7-ac58-4d18d9b8d08a",
   "metadata": {},
   "outputs": [],
   "source": []
  }
 ],
 "metadata": {
  "kernelspec": {
   "display_name": "Python 3 (ipykernel)",
   "language": "python",
   "name": "python3"
  },
  "language_info": {
   "codemirror_mode": {
    "name": "ipython",
    "version": 3
   },
   "file_extension": ".py",
   "mimetype": "text/x-python",
   "name": "python",
   "nbconvert_exporter": "python",
   "pygments_lexer": "ipython3",
   "version": "3.10.8"
  }
 },
 "nbformat": 4,
 "nbformat_minor": 5
}
